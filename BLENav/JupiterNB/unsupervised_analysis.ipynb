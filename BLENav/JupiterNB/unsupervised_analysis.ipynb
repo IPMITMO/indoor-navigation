{
 "cells": [
  {
   "cell_type": "code",
   "execution_count": 62,
   "metadata": {
    "collapsed": true
   },
   "outputs": [],
   "source": [
    "import pandas as pd\n",
    "import numpy as np\n",
    "import matplotlib.pyplot as plt\n",
    "%matplotlib inline"
   ]
  },
  {
   "cell_type": "code",
   "execution_count": 2,
   "metadata": {
    "collapsed": true
   },
   "outputs": [],
   "source": [
    "df = pd.read_csv('data_capture_1.csv')"
   ]
  },
  {
   "cell_type": "code",
   "execution_count": 6,
   "metadata": {
    "collapsed": false
   },
   "outputs": [
    {
     "data": {
      "text/html": [
       "<div>\n",
       "<table border=\"1\" class=\"dataframe\">\n",
       "  <thead>\n",
       "    <tr style=\"text-align: right;\">\n",
       "      <th></th>\n",
       "      <th>PosX</th>\n",
       "      <th>PosY</th>\n",
       "      <th>RSSI</th>\n",
       "      <th>Name</th>\n",
       "    </tr>\n",
       "  </thead>\n",
       "  <tbody>\n",
       "    <tr>\n",
       "      <th>0</th>\n",
       "      <td>1.921138</td>\n",
       "      <td>4.59375</td>\n",
       "      <td>-54</td>\n",
       "      <td>egopi3</td>\n",
       "    </tr>\n",
       "    <tr>\n",
       "      <th>1</th>\n",
       "      <td>1.921138</td>\n",
       "      <td>4.59375</td>\n",
       "      <td>-74</td>\n",
       "      <td>egopi2</td>\n",
       "    </tr>\n",
       "    <tr>\n",
       "      <th>2</th>\n",
       "      <td>1.921138</td>\n",
       "      <td>4.59375</td>\n",
       "      <td>-55</td>\n",
       "      <td>egopi3</td>\n",
       "    </tr>\n",
       "    <tr>\n",
       "      <th>3</th>\n",
       "      <td>1.921138</td>\n",
       "      <td>4.59375</td>\n",
       "      <td>-73</td>\n",
       "      <td>egopi2</td>\n",
       "    </tr>\n",
       "    <tr>\n",
       "      <th>4</th>\n",
       "      <td>1.921138</td>\n",
       "      <td>4.59375</td>\n",
       "      <td>-56</td>\n",
       "      <td>egopi3</td>\n",
       "    </tr>\n",
       "    <tr>\n",
       "      <th>5</th>\n",
       "      <td>1.921138</td>\n",
       "      <td>4.59375</td>\n",
       "      <td>-77</td>\n",
       "      <td>egopi1</td>\n",
       "    </tr>\n",
       "    <tr>\n",
       "      <th>6</th>\n",
       "      <td>1.921138</td>\n",
       "      <td>4.59375</td>\n",
       "      <td>-73</td>\n",
       "      <td>egopi2</td>\n",
       "    </tr>\n",
       "    <tr>\n",
       "      <th>7</th>\n",
       "      <td>1.921138</td>\n",
       "      <td>4.59375</td>\n",
       "      <td>-57</td>\n",
       "      <td>egopi3</td>\n",
       "    </tr>\n",
       "    <tr>\n",
       "      <th>8</th>\n",
       "      <td>1.921138</td>\n",
       "      <td>4.59375</td>\n",
       "      <td>-79</td>\n",
       "      <td>egopi1</td>\n",
       "    </tr>\n",
       "    <tr>\n",
       "      <th>9</th>\n",
       "      <td>1.921138</td>\n",
       "      <td>4.59375</td>\n",
       "      <td>-74</td>\n",
       "      <td>egopi2</td>\n",
       "    </tr>\n",
       "    <tr>\n",
       "      <th>10</th>\n",
       "      <td>1.921138</td>\n",
       "      <td>4.59375</td>\n",
       "      <td>-59</td>\n",
       "      <td>egopi3</td>\n",
       "    </tr>\n",
       "    <tr>\n",
       "      <th>11</th>\n",
       "      <td>1.921138</td>\n",
       "      <td>4.59375</td>\n",
       "      <td>-85</td>\n",
       "      <td>egopi1</td>\n",
       "    </tr>\n",
       "    <tr>\n",
       "      <th>12</th>\n",
       "      <td>1.921138</td>\n",
       "      <td>4.59375</td>\n",
       "      <td>-77</td>\n",
       "      <td>Surge</td>\n",
       "    </tr>\n",
       "    <tr>\n",
       "      <th>13</th>\n",
       "      <td>1.921138</td>\n",
       "      <td>4.59375</td>\n",
       "      <td>-75</td>\n",
       "      <td>egopi2</td>\n",
       "    </tr>\n",
       "    <tr>\n",
       "      <th>14</th>\n",
       "      <td>1.921138</td>\n",
       "      <td>4.59375</td>\n",
       "      <td>-56</td>\n",
       "      <td>egopi3</td>\n",
       "    </tr>\n",
       "    <tr>\n",
       "      <th>15</th>\n",
       "      <td>1.921138</td>\n",
       "      <td>4.59375</td>\n",
       "      <td>-82</td>\n",
       "      <td>egopi1</td>\n",
       "    </tr>\n",
       "    <tr>\n",
       "      <th>16</th>\n",
       "      <td>1.921138</td>\n",
       "      <td>4.59375</td>\n",
       "      <td>-73</td>\n",
       "      <td>egopi2</td>\n",
       "    </tr>\n",
       "    <tr>\n",
       "      <th>17</th>\n",
       "      <td>1.921138</td>\n",
       "      <td>4.59375</td>\n",
       "      <td>-56</td>\n",
       "      <td>egopi3</td>\n",
       "    </tr>\n",
       "    <tr>\n",
       "      <th>18</th>\n",
       "      <td>1.921138</td>\n",
       "      <td>4.59375</td>\n",
       "      <td>-79</td>\n",
       "      <td>egopi1</td>\n",
       "    </tr>\n",
       "    <tr>\n",
       "      <th>19</th>\n",
       "      <td>1.921138</td>\n",
       "      <td>4.59375</td>\n",
       "      <td>-76</td>\n",
       "      <td>egopi2</td>\n",
       "    </tr>\n",
       "  </tbody>\n",
       "</table>\n",
       "</div>"
      ],
      "text/plain": [
       "        PosX     PosY  RSSI    Name\n",
       "0   1.921138  4.59375   -54  egopi3\n",
       "1   1.921138  4.59375   -74  egopi2\n",
       "2   1.921138  4.59375   -55  egopi3\n",
       "3   1.921138  4.59375   -73  egopi2\n",
       "4   1.921138  4.59375   -56  egopi3\n",
       "5   1.921138  4.59375   -77  egopi1\n",
       "6   1.921138  4.59375   -73  egopi2\n",
       "7   1.921138  4.59375   -57  egopi3\n",
       "8   1.921138  4.59375   -79  egopi1\n",
       "9   1.921138  4.59375   -74  egopi2\n",
       "10  1.921138  4.59375   -59  egopi3\n",
       "11  1.921138  4.59375   -85  egopi1\n",
       "12  1.921138  4.59375   -77   Surge\n",
       "13  1.921138  4.59375   -75  egopi2\n",
       "14  1.921138  4.59375   -56  egopi3\n",
       "15  1.921138  4.59375   -82  egopi1\n",
       "16  1.921138  4.59375   -73  egopi2\n",
       "17  1.921138  4.59375   -56  egopi3\n",
       "18  1.921138  4.59375   -79  egopi1\n",
       "19  1.921138  4.59375   -76  egopi2"
      ]
     },
     "execution_count": 6,
     "metadata": {},
     "output_type": "execute_result"
    }
   ],
   "source": [
    "df.head(20)"
   ]
  },
  {
   "cell_type": "code",
   "execution_count": 9,
   "metadata": {
    "collapsed": false
   },
   "outputs": [],
   "source": [
    "df = df[df.Name.str.contains(\"egopi\")]"
   ]
  },
  {
   "cell_type": "code",
   "execution_count": 15,
   "metadata": {
    "collapsed": false
   },
   "outputs": [],
   "source": [
    "df = df.drop([\"PosX\", \"PosY\"], axis=1)"
   ]
  },
  {
   "cell_type": "code",
   "execution_count": 16,
   "metadata": {
    "collapsed": true
   },
   "outputs": [],
   "source": [
    "window = df.loc[0:10]"
   ]
  },
  {
   "cell_type": "code",
   "execution_count": 18,
   "metadata": {
    "collapsed": false
   },
   "outputs": [],
   "source": [
    "point = window.groupby(\"Name\").mean()"
   ]
  },
  {
   "cell_type": "code",
   "execution_count": 21,
   "metadata": {
    "collapsed": false
   },
   "outputs": [
    {
     "data": {
      "text/plain": [
       "array([-78. , -73.5, -56.2])"
      ]
     },
     "execution_count": 21,
     "metadata": {},
     "output_type": "execute_result"
    }
   ],
   "source": [
    "point.as_matrix().T[0]"
   ]
  },
  {
   "cell_type": "code",
   "execution_count": 39,
   "metadata": {
    "collapsed": false
   },
   "outputs": [],
   "source": [
    "points = []\n",
    "for i in range(len(df) - 20):\n",
    "    window = df.loc[i:i+20]\n",
    "    point = window.groupby(\"Name\").mean().as_matrix().T[0]\n",
    "    points.append(point)\n"
   ]
  },
  {
   "cell_type": "code",
   "execution_count": 43,
   "metadata": {
    "collapsed": false
   },
   "outputs": [],
   "source": [
    "newpoints = []\n",
    "for p in points:\n",
    "    if p.shape == (3,):\n",
    "        newpoints.append(p)"
   ]
  },
  {
   "cell_type": "code",
   "execution_count": 47,
   "metadata": {
    "collapsed": false
   },
   "outputs": [],
   "source": [
    "data = np.stack(newpoints, axis=0)"
   ]
  },
  {
   "cell_type": "code",
   "execution_count": 24,
   "metadata": {
    "collapsed": false
   },
   "outputs": [],
   "source": [
    "from sklearn.cluster import KMeans"
   ]
  },
  {
   "cell_type": "code",
   "execution_count": 26,
   "metadata": {
    "collapsed": true
   },
   "outputs": [],
   "source": [
    "km = KMeans(n_clusters=4)"
   ]
  },
  {
   "cell_type": "code",
   "execution_count": 49,
   "metadata": {
    "collapsed": false
   },
   "outputs": [
    {
     "data": {
      "text/plain": [
       "KMeans(copy_x=True, init='k-means++', max_iter=300, n_clusters=4, n_init=10,\n",
       "    n_jobs=1, precompute_distances='auto', random_state=None, tol=0.0001,\n",
       "    verbose=0)"
      ]
     },
     "execution_count": 49,
     "metadata": {},
     "output_type": "execute_result"
    }
   ],
   "source": [
    "km.fit(data)"
   ]
  },
  {
   "cell_type": "code",
   "execution_count": 76,
   "metadata": {
    "collapsed": false
   },
   "outputs": [],
   "source": [
    "preds = km.predict(data)"
   ]
  },
  {
   "cell_type": "code",
   "execution_count": 58,
   "metadata": {
    "collapsed": true
   },
   "outputs": [],
   "source": [
    "from sklearn.manifold import TSNE"
   ]
  },
  {
   "cell_type": "code",
   "execution_count": 59,
   "metadata": {
    "collapsed": true
   },
   "outputs": [],
   "source": [
    "tsne = TSNE()"
   ]
  },
  {
   "cell_type": "code",
   "execution_count": 61,
   "metadata": {
    "collapsed": true
   },
   "outputs": [],
   "source": [
    "newdata = tsne.fit_transform(data)"
   ]
  },
  {
   "cell_type": "code",
   "execution_count": 68,
   "metadata": {
    "collapsed": true
   },
   "outputs": [],
   "source": [
    "colors = [\"red\", \"green\", \"blue\", \"yellow\"]"
   ]
  },
  {
   "cell_type": "code",
   "execution_count": 73,
   "metadata": {
    "collapsed": true
   },
   "outputs": [],
   "source": [
    "import warnings\n",
    "warnings.filterwarnings(\"ignore\")"
   ]
  },
  {
   "cell_type": "code",
   "execution_count": 74,
   "metadata": {
    "collapsed": false
   },
   "outputs": [],
   "source": [
    "c = []\n",
    "for d in data:\n",
    "    c.append(colors[km.predict(d)[0]])\n",
    "    "
   ]
  },
  {
   "cell_type": "code",
   "execution_count": 75,
   "metadata": {
    "collapsed": false
   },
   "outputs": [
    {
     "data": {
      "text/plain": [
       "<matplotlib.collections.PathCollection at 0xc1a6ac8>"
      ]
     },
     "execution_count": 75,
     "metadata": {},
     "output_type": "execute_result"
    },
    {
     "data": {
      "image/png": "[encoded data removed]",
      "text/plain": [
       "<matplotlib.figure.Figure at 0xb1239b0>"
      ]
     },
     "metadata": {},
     "output_type": "display_data"
    }
   ],
   "source": [
    "plt.scatter(newdata[:, 0], newdata[:, 1], c=c)"
   ]
  },
  {
   "cell_type": "code",
   "execution_count": null,
   "metadata": {
    "collapsed": true
   },
   "outputs": [],
   "source": []
  }
 ],
 "metadata": {
  "kernelspec": {
   "display_name": "Python 3",
   "language": "python",
   "name": "python3"
  },
  "language_info": {
   "codemirror_mode": {
    "name": "ipython",
    "version": 3
   },
   "file_extension": ".py",
   "mimetype": "text/x-python",
   "name": "python",
   "nbconvert_exporter": "python",
   "pygments_lexer": "ipython3",
   "version": "3.5.1"
  }
 },
 "nbformat": 4,
 "nbformat_minor": 0
}
